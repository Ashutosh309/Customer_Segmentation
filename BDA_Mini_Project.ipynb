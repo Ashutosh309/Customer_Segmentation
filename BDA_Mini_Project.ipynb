{
 "cells": [
  {
   "cell_type": "markdown",
   "metadata": {
    "id": "Pgh1e5gjmM22"
   },
   "source": [
    "# Customer Segmentation using PySpark"
   ]
  },
  {
   "cell_type": "code",
   "execution_count": 2,
   "metadata": {
    "colab": {
     "base_uri": "https://localhost:8080/"
    },
    "id": "LoCv5paNxRet",
    "outputId": "2d7a8326-c074-4893-da74-0752eef9b728"
   },
   "outputs": [],
   "source": [
    "# !pip install pyspark"
   ]
  },
  {
   "cell_type": "code",
   "execution_count": 3,
   "metadata": {
    "id": "YN0NQyDf37jw"
   },
   "outputs": [],
   "source": [
    "import pyspark\n",
    "import pandas as pd\n",
    "import numpy as np\n",
    "import matplotlib.pyplot as plt\n",
    "from pyspark.sql import SparkSession\n",
    "from pyspark.sql.types import * # to create a dataframe of a specific type\n",
    "from pyspark.sql.functions import * # importig SQL functions\n",
    "from pyspark.sql.window import Window"
   ]
  },
  {
   "cell_type": "code",
   "execution_count": 4,
   "metadata": {
    "colab": {
     "base_uri": "https://localhost:8080/",
     "height": 219
    },
    "id": "wsFKDIy-97AZ",
    "outputId": "e43e3b80-97b8-4f4d-dd74-b06e596da233"
   },
   "outputs": [
    {
     "data": {
      "text/html": [
       "\n",
       "            <div>\n",
       "                <p><b>SparkSession - in-memory</b></p>\n",
       "                \n",
       "        <div>\n",
       "            <p><b>SparkContext</b></p>\n",
       "\n",
       "            <p><a href=\"http://LAPTOP-V651NI46.mshome.net:4040\">Spark UI</a></p>\n",
       "\n",
       "            <dl>\n",
       "              <dt>Version</dt>\n",
       "                <dd><code>v3.3.1</code></dd>\n",
       "              <dt>Master</dt>\n",
       "                <dd><code>local[*]</code></dd>\n",
       "              <dt>AppName</dt>\n",
       "                <dd><code>pyspark-shell</code></dd>\n",
       "            </dl>\n",
       "        </div>\n",
       "        \n",
       "            </div>\n",
       "        "
      ],
      "text/plain": [
       "<pyspark.sql.session.SparkSession at 0x1f18069c2b0>"
      ]
     },
     "execution_count": 4,
     "metadata": {},
     "output_type": "execute_result"
    }
   ],
   "source": [
    "spark = SparkSession.builder.getOrCreate()\n",
    "spark"
   ]
  },
  {
   "cell_type": "code",
   "execution_count": 5,
   "metadata": {
    "colab": {
     "base_uri": "https://localhost:8080/"
    },
    "id": "l-1Kx87l-nZL",
    "outputId": "21ef2eb1-88d9-41f6-dbc8-39acee619a3f"
   },
   "outputs": [
    {
     "data": {
      "text/plain": [
       "pyspark.sql.session.SparkSession"
      ]
     },
     "execution_count": 5,
     "metadata": {},
     "output_type": "execute_result"
    }
   ],
   "source": [
    "type(spark)"
   ]
  },
  {
   "cell_type": "code",
   "execution_count": 6,
   "metadata": {
    "id": "63STu7Ga5RCP"
   },
   "outputs": [],
   "source": [
    "data = spark.read.csv(\"Data.csv\", inferSchema=True, header=True)"
   ]
  },
  {
   "cell_type": "code",
   "execution_count": 7,
   "metadata": {
    "colab": {
     "base_uri": "https://localhost:8080/"
    },
    "id": "a5vb9X-y-tsu",
    "outputId": "3648a68b-9621-4710-dfe8-d976099ddb7e"
   },
   "outputs": [
    {
     "name": "stdout",
     "output_type": "stream",
     "text": [
      "root\n",
      " |-- InvoiceNo: string (nullable = true)\n",
      " |-- FlightCode: string (nullable = true)\n",
      " |-- Quantity: integer (nullable = true)\n",
      " |-- InvoiceDate: string (nullable = true)\n",
      " |-- UnitPrice: double (nullable = true)\n",
      " |-- CustomerID: integer (nullable = true)\n",
      " |-- Country: string (nullable = true)\n",
      "\n"
     ]
    }
   ],
   "source": [
    "data.printSchema()"
   ]
  },
  {
   "cell_type": "code",
   "execution_count": 8,
   "metadata": {
    "colab": {
     "base_uri": "https://localhost:8080/"
    },
    "id": "Cbl_DA5U-27W",
    "outputId": "94e22516-43a0-4a95-a20b-39fb4bb444ff"
   },
   "outputs": [
    {
     "data": {
      "text/plain": [
       "pyspark.sql.dataframe.DataFrame"
      ]
     },
     "execution_count": 8,
     "metadata": {},
     "output_type": "execute_result"
    }
   ],
   "source": [
    "type(data)"
   ]
  },
  {
   "cell_type": "code",
   "execution_count": 9,
   "metadata": {
    "colab": {
     "base_uri": "https://localhost:8080/"
    },
    "id": "RJJNKYcU_XQR",
    "outputId": "79d73475-0130-457d-d856-da7bec711814"
   },
   "outputs": [
    {
     "name": "stdout",
     "output_type": "stream",
     "text": [
      "+---------+----------+--------+--------------+---------+----------+--------------+\n",
      "|InvoiceNo|FlightCode|Quantity|   InvoiceDate|UnitPrice|CustomerID|       Country|\n",
      "+---------+----------+--------+--------------+---------+----------+--------------+\n",
      "|   536365|    85123A|       6|12/1/2010 8:26|     2.55|     17850|United Kingdom|\n",
      "|   536365|     71053|       6|12/1/2010 8:26|     3.39|     17850|United Kingdom|\n",
      "|   536365|    84406B|       8|12/1/2010 8:26|     2.75|     17850|United Kingdom|\n",
      "|   536365|    84029G|       6|12/1/2010 8:26|     3.39|     17850|United Kingdom|\n",
      "|   536365|    84029E|       6|12/1/2010 8:26|     3.39|     17850|United Kingdom|\n",
      "+---------+----------+--------+--------------+---------+----------+--------------+\n",
      "only showing top 5 rows\n",
      "\n"
     ]
    }
   ],
   "source": [
    "data.show(5)"
   ]
  },
  {
   "cell_type": "code",
   "execution_count": 10,
   "metadata": {
    "colab": {
     "base_uri": "https://localhost:8080/"
    },
    "id": "JQWZMjRkUdbB",
    "outputId": "c09b8042-b447-43ed-9f18-40b2d04ecc68"
   },
   "outputs": [
    {
     "data": {
      "text/plain": [
       "(541909, 7)"
      ]
     },
     "execution_count": 10,
     "metadata": {},
     "output_type": "execute_result"
    }
   ],
   "source": [
    "data.toPandas().shape"
   ]
  },
  {
   "cell_type": "code",
   "execution_count": 11,
   "metadata": {
    "colab": {
     "base_uri": "https://localhost:8080/"
    },
    "id": "K8QyjqLA_dRn",
    "outputId": "ca90c36d-a249-4110-9c4c-f02b5e11f7c5"
   },
   "outputs": [
    {
     "name": "stdout",
     "output_type": "stream",
     "text": [
      "+-------+------------------+------------------+------------------+---------------+-----------------+------------------+-----------+\n",
      "|summary|         InvoiceNo|        FlightCode|          Quantity|    InvoiceDate|        UnitPrice|        CustomerID|    Country|\n",
      "+-------+------------------+------------------+------------------+---------------+-----------------+------------------+-----------+\n",
      "|  count|            541909|            541909|            541909|         541909|           541909|            406829|     541909|\n",
      "|   mean|  559965.752026781|27623.240210938104|  9.55224954743324|           null|4.611113626089845|15287.690570239585|       null|\n",
      "| stddev|13428.417280795411|16799.737628427683|218.08115785023435|           null|96.75985306117933|1713.6003033215986|       null|\n",
      "|    min|            536365|             10002|            -80995|1/10/2011 10:04|        -11062.06|             12346|  Australia|\n",
      "|    max|           C581569|                 m|             80995|  9/9/2011 9:52|          38970.0|             18287|Unspecified|\n",
      "+-------+------------------+------------------+------------------+---------------+-----------------+------------------+-----------+\n",
      "\n"
     ]
    }
   ],
   "source": [
    "data.describe().show()"
   ]
  },
  {
   "cell_type": "code",
   "execution_count": 12,
   "metadata": {
    "colab": {
     "base_uri": "https://localhost:8080/"
    },
    "id": "sEySsp3dQd8V",
    "outputId": "fe71845e-b6c9-4622-9843-e403492251b0"
   },
   "outputs": [
    {
     "name": "stdout",
     "output_type": "stream",
     "text": [
      "+---------+----------+--------+-----------+---------+----------+-------+\n",
      "|InvoiceNo|FlightCode|Quantity|InvoiceDate|UnitPrice|CustomerID|Country|\n",
      "+---------+----------+--------+-----------+---------+----------+-------+\n",
      "|        0|         0|       0|          0|        0|    135080|      0|\n",
      "+---------+----------+--------+-----------+---------+----------+-------+\n",
      "\n"
     ]
    }
   ],
   "source": [
    "data.select([count(when(isnan(c) | col(c).isNull(), c)).alias(c) for c in data.columns]).show()"
   ]
  },
  {
   "cell_type": "code",
   "execution_count": 13,
   "metadata": {
    "colab": {
     "base_uri": "https://localhost:8080/"
    },
    "id": "-6bWazfyjjao",
    "outputId": "ec9a3bac-dadc-40ab-9922-e54428417902"
   },
   "outputs": [
    {
     "name": "stdout",
     "output_type": "stream",
     "text": [
      "+--------------+------+\n",
      "|       Country| count|\n",
      "+--------------+------+\n",
      "|United Kingdom|495478|\n",
      "|       Germany|  9495|\n",
      "|        France|  8557|\n",
      "|          EIRE|  8196|\n",
      "|         Spain|  2533|\n",
      "|   Netherlands|  2371|\n",
      "|       Belgium|  2069|\n",
      "|   Switzerland|  2002|\n",
      "|      Portugal|  1519|\n",
      "|     Australia|  1259|\n",
      "+--------------+------+\n",
      "only showing top 10 rows\n",
      "\n"
     ]
    }
   ],
   "source": [
    "data.groupBy(\"Country\").count().sort(\"count\", ascending=False).show(10)"
   ]
  },
  {
   "cell_type": "code",
   "execution_count": 14,
   "metadata": {
    "colab": {
     "base_uri": "https://localhost:8080/"
    },
    "id": "MItgD3t5SjtY",
    "outputId": "5358e6c2-8346-48b2-cac8-c2870d170850"
   },
   "outputs": [
    {
     "name": "stdout",
     "output_type": "stream",
     "text": [
      "+--------------+-----+-----+------------------+\n",
      "|       Country|Count|Total|                 %|\n",
      "+--------------+-----+-----+------------------+\n",
      "|United Kingdom| 3950| 4380| 90.18264840182648|\n",
      "|       Germany|   95| 4380|2.1689497716894977|\n",
      "|        France|   87| 4380|1.9863013698630139|\n",
      "|         Spain|   31| 4380|0.7077625570776256|\n",
      "|       Belgium|   25| 4380|0.5707762557077625|\n",
      "+--------------+-----+-----+------------------+\n",
      "only showing top 5 rows\n",
      "\n"
     ]
    }
   ],
   "source": [
    "# Customer distribution by country\n",
    "\n",
    "rtl_data = data[\"Country\", \"CustomerID\"].distinct().groupBy(\"Country\").agg(count\n",
    "          (\"CustomerID\").alias(\"Count\")).withColumn('Total', sum('Count').over\n",
    "          (Window.partitionBy())).withColumn('%', (col('Count')/col('Total'))*100).sort(\"Count\", ascending=False)\n",
    "rtl_data.show(5)"
   ]
  },
  {
   "cell_type": "code",
   "execution_count": 15,
   "metadata": {
    "colab": {
     "base_uri": "https://localhost:8080/"
    },
    "id": "upxny_KqTXGo",
    "outputId": "6736b06b-47a4-40b7-b42c-114549e614f6"
   },
   "outputs": [
    {
     "name": "stdout",
     "output_type": "stream",
     "text": [
      "(361878, 7)\n",
      "+---------+----------+--------+--------------+---------+----------+--------------+\n",
      "|InvoiceNo|FlightCode|Quantity|   InvoiceDate|UnitPrice|CustomerID|       Country|\n",
      "+---------+----------+--------+--------------+---------+----------+--------------+\n",
      "|   536365|    85123A|       6|12/1/2010 8:26|     2.55|     17850|United Kingdom|\n",
      "|   536365|     71053|       6|12/1/2010 8:26|     3.39|     17850|United Kingdom|\n",
      "|   536365|    84406B|       8|12/1/2010 8:26|     2.75|     17850|United Kingdom|\n",
      "|   536365|    84029G|       6|12/1/2010 8:26|     3.39|     17850|United Kingdom|\n",
      "|   536365|    84029E|       6|12/1/2010 8:26|     3.39|     17850|United Kingdom|\n",
      "+---------+----------+--------+--------------+---------+----------+--------------+\n",
      "only showing top 5 rows\n",
      "\n",
      "+-------+-----------------+------------------+------------------+---------------+-----------------+------------------+--------------+\n",
      "|summary|        InvoiceNo|        FlightCode|          Quantity|    InvoiceDate|        UnitPrice|        CustomerID|       Country|\n",
      "+-------+-----------------+------------------+------------------+---------------+-----------------+------------------+--------------+\n",
      "|  count|           361878|            361878|            361878|         361878|           361878|            361878|        361878|\n",
      "|   mean|  560672.61234108|27661.093939094237|11.077028722387103|           null|3.256006897352265|15547.871368251179|          null|\n",
      "| stddev|13168.98861604077|16738.542340466625| 263.1292655989742|           null|70.65473116893888|1594.4025904479602|          null|\n",
      "|    min|           536365|             10002|            -80995|1/10/2011 10:32|              0.0|             12346|United Kingdom|\n",
      "|    max|          C581569|              POST|             80995|  9/9/2011 9:52|          38970.0|             18287|United Kingdom|\n",
      "+-------+-----------------+------------------+------------------+---------------+-----------------+------------------+--------------+\n",
      "\n"
     ]
    }
   ],
   "source": [
    "# customers from UK\n",
    "rtl_data = data.filter(col(\"Country\") == \"United Kingdom\")\n",
    "\n",
    "rtl_data = rtl_data.filter(col(\"CustomerID\").isNotNull())\n",
    "\n",
    "print(rtl_data.toPandas().shape)\n",
    "rtl_data.show(5)\n",
    "rtl_data.describe().show()"
   ]
  },
  {
   "cell_type": "code",
   "execution_count": 16,
   "metadata": {
    "colab": {
     "base_uri": "https://localhost:8080/"
    },
    "id": "EjXSBV_4_y-Q",
    "outputId": "4102a86a-5844-4c81-c2bb-1425783d3b19"
   },
   "outputs": [
    {
     "name": "stdout",
     "output_type": "stream",
     "text": [
      "+---------+----------+--------+-----------+---------+----------+-------+\n",
      "|InvoiceNo|FlightCode|Quantity|InvoiceDate|UnitPrice|CustomerID|Country|\n",
      "+---------+----------+--------+-----------+---------+----------+-------+\n",
      "|        0|         0|       0|          0|        0|         0|      0|\n",
      "+---------+----------+--------+-----------+---------+----------+-------+\n",
      "\n"
     ]
    }
   ],
   "source": [
    "rtl_data.select([count(when(isnan(c) | col(c).isNull(), c)).alias(c) for c in rtl_data.columns]).show()"
   ]
  },
  {
   "cell_type": "code",
   "execution_count": 17,
   "metadata": {
    "colab": {
     "base_uri": "https://localhost:8080/"
    },
    "id": "um5PO7JiU8db",
    "outputId": "3a66853f-2d90-48d1-fd62-63146e59d155"
   },
   "outputs": [
    {
     "name": "stdout",
     "output_type": "stream",
     "text": [
      "root\n",
      " |-- InvoiceNo: string (nullable = true)\n",
      " |-- FlightCode: string (nullable = true)\n",
      " |-- Quantity: integer (nullable = true)\n",
      " |-- InvoiceDate: string (nullable = true)\n",
      " |-- UnitPrice: double (nullable = true)\n",
      " |-- CustomerID: integer (nullable = true)\n",
      " |-- Country: string (nullable = true)\n",
      "\n"
     ]
    }
   ],
   "source": [
    "rtl_data.printSchema()"
   ]
  },
  {
   "cell_type": "code",
   "execution_count": 18,
   "metadata": {
    "colab": {
     "base_uri": "https://localhost:8080/"
    },
    "id": "0bh2RzHlVBjT",
    "outputId": "9640c937-93ea-4039-a728-bdc5ca6b896a",
    "scrolled": true
   },
   "outputs": [
    {
     "name": "stdout",
     "output_type": "stream",
     "text": [
      "+-------+-----------------+------------------+------------------+---------------+-----------------+------------------+--------------+\n",
      "|summary|        InvoiceNo|        FlightCode|          Quantity|    InvoiceDate|        UnitPrice|        CustomerID|       Country|\n",
      "+-------+-----------------+------------------+------------------+---------------+-----------------+------------------+--------------+\n",
      "|  count|           361878|            361878|            361878|         361878|           361878|            361878|        361878|\n",
      "|   mean|  560672.61234108|27661.093939094237|11.077028722387103|           null|3.256006897352265|15547.871368251179|          null|\n",
      "| stddev|13168.98861604077|16738.542340466625| 263.1292655989742|           null|70.65473116893888|1594.4025904479602|          null|\n",
      "|    min|           536365|             10002|            -80995|1/10/2011 10:32|              0.0|             12346|United Kingdom|\n",
      "|    max|          C581569|              POST|             80995|  9/9/2011 9:52|          38970.0|             18287|United Kingdom|\n",
      "+-------+-----------------+------------------+------------------+---------------+-----------------+------------------+--------------+\n",
      "\n"
     ]
    }
   ],
   "source": [
    "rtl_data.describe().show()"
   ]
  },
  {
   "cell_type": "code",
   "execution_count": 19,
   "metadata": {
    "id": "zD8ZbxLXX0zG"
   },
   "outputs": [],
   "source": [
    "# To remove negative Quantities\n",
    "rtl_data = rtl_data.filter(col(\"Quantity\") > 0)\n",
    "# Total Amount column\n",
    "rtl_data = rtl_data.withColumn(\"TotalAmount\", round(col(\"Quantity\") * col(\"UnitPrice\")))"
   ]
  },
  {
   "cell_type": "code",
   "execution_count": 20,
   "metadata": {
    "colab": {
     "base_uri": "https://localhost:8080/",
     "height": 206
    },
    "id": "7G7zgjr_VzRx",
    "outputId": "d5f40cf6-8f14-4891-88ad-69e1a18081b5"
   },
   "outputs": [
    {
     "data": {
      "text/html": [
       "<div>\n",
       "<style scoped>\n",
       "    .dataframe tbody tr th:only-of-type {\n",
       "        vertical-align: middle;\n",
       "    }\n",
       "\n",
       "    .dataframe tbody tr th {\n",
       "        vertical-align: top;\n",
       "    }\n",
       "\n",
       "    .dataframe thead th {\n",
       "        text-align: right;\n",
       "    }\n",
       "</style>\n",
       "<table border=\"1\" class=\"dataframe\">\n",
       "  <thead>\n",
       "    <tr style=\"text-align: right;\">\n",
       "      <th></th>\n",
       "      <th>InvoiceNo</th>\n",
       "      <th>FlightCode</th>\n",
       "      <th>Quantity</th>\n",
       "      <th>InvoiceDate</th>\n",
       "      <th>UnitPrice</th>\n",
       "      <th>CustomerID</th>\n",
       "      <th>Country</th>\n",
       "      <th>TotalAmount</th>\n",
       "    </tr>\n",
       "  </thead>\n",
       "  <tbody>\n",
       "    <tr>\n",
       "      <th>0</th>\n",
       "      <td>536365</td>\n",
       "      <td>85123A</td>\n",
       "      <td>6</td>\n",
       "      <td>12/1/2010 8:26</td>\n",
       "      <td>2.55</td>\n",
       "      <td>17850</td>\n",
       "      <td>United Kingdom</td>\n",
       "      <td>15.0</td>\n",
       "    </tr>\n",
       "    <tr>\n",
       "      <th>1</th>\n",
       "      <td>536365</td>\n",
       "      <td>71053</td>\n",
       "      <td>6</td>\n",
       "      <td>12/1/2010 8:26</td>\n",
       "      <td>3.39</td>\n",
       "      <td>17850</td>\n",
       "      <td>United Kingdom</td>\n",
       "      <td>20.0</td>\n",
       "    </tr>\n",
       "    <tr>\n",
       "      <th>2</th>\n",
       "      <td>536365</td>\n",
       "      <td>84406B</td>\n",
       "      <td>8</td>\n",
       "      <td>12/1/2010 8:26</td>\n",
       "      <td>2.75</td>\n",
       "      <td>17850</td>\n",
       "      <td>United Kingdom</td>\n",
       "      <td>22.0</td>\n",
       "    </tr>\n",
       "    <tr>\n",
       "      <th>3</th>\n",
       "      <td>536365</td>\n",
       "      <td>84029G</td>\n",
       "      <td>6</td>\n",
       "      <td>12/1/2010 8:26</td>\n",
       "      <td>3.39</td>\n",
       "      <td>17850</td>\n",
       "      <td>United Kingdom</td>\n",
       "      <td>20.0</td>\n",
       "    </tr>\n",
       "    <tr>\n",
       "      <th>4</th>\n",
       "      <td>536365</td>\n",
       "      <td>84029E</td>\n",
       "      <td>6</td>\n",
       "      <td>12/1/2010 8:26</td>\n",
       "      <td>3.39</td>\n",
       "      <td>17850</td>\n",
       "      <td>United Kingdom</td>\n",
       "      <td>20.0</td>\n",
       "    </tr>\n",
       "  </tbody>\n",
       "</table>\n",
       "</div>"
      ],
      "text/plain": [
       "  InvoiceNo FlightCode  Quantity     InvoiceDate  UnitPrice  CustomerID  \\\n",
       "0    536365     85123A         6  12/1/2010 8:26       2.55       17850   \n",
       "1    536365      71053         6  12/1/2010 8:26       3.39       17850   \n",
       "2    536365     84406B         8  12/1/2010 8:26       2.75       17850   \n",
       "3    536365     84029G         6  12/1/2010 8:26       3.39       17850   \n",
       "4    536365     84029E         6  12/1/2010 8:26       3.39       17850   \n",
       "\n",
       "          Country  TotalAmount  \n",
       "0  United Kingdom         15.0  \n",
       "1  United Kingdom         20.0  \n",
       "2  United Kingdom         22.0  \n",
       "3  United Kingdom         20.0  \n",
       "4  United Kingdom         20.0  "
      ]
     },
     "execution_count": 20,
     "metadata": {},
     "output_type": "execute_result"
    }
   ],
   "source": [
    "rtl_data.limit(5).toPandas()"
   ]
  },
  {
   "cell_type": "markdown",
   "metadata": {
    "id": "1j1uhy66mdMV"
   },
   "source": [
    "### Filtering Data"
   ]
  },
  {
   "cell_type": "code",
   "execution_count": 21,
   "metadata": {
    "colab": {
     "base_uri": "https://localhost:8080/"
    },
    "id": "IzxOo4MAVwT9",
    "outputId": "c5e35a56-98e3-44dd-a6ea-eccae8b14a39"
   },
   "outputs": [
    {
     "name": "stdout",
     "output_type": "stream",
     "text": [
      "+---------+----------+--------+---------------+---------+----------+--------------+-----------+\n",
      "|InvoiceNo|FlightCode|Quantity|    InvoiceDate|UnitPrice|CustomerID|       Country|TotalAmount|\n",
      "+---------+----------+--------+---------------+---------+----------+--------------+-----------+\n",
      "|   541431|     23166|   74215|1/18/2011 10:01|     1.04|     12346|United Kingdom|    77184.0|\n",
      "|   581483|     23843|   80995| 12/9/2011 9:15|     2.08|     16446|United Kingdom|   168470.0|\n",
      "+---------+----------+--------+---------------+---------+----------+--------------+-----------+\n",
      "\n"
     ]
    }
   ],
   "source": [
    "rtl_data.filter(rtl_data.Quantity > 50000).show()"
   ]
  },
  {
   "cell_type": "code",
   "execution_count": 22,
   "metadata": {
    "id": "j8_MdZOuaVO3"
   },
   "outputs": [],
   "source": [
    "df = rtl_data.toPandas()"
   ]
  },
  {
   "cell_type": "code",
   "execution_count": 23,
   "metadata": {
    "colab": {
     "base_uri": "https://localhost:8080/"
    },
    "id": "o5gEWOSZa2l2",
    "outputId": "710b1ef6-6c4a-4008-876a-596044af3783"
   },
   "outputs": [
    {
     "name": "stdout",
     "output_type": "stream",
     "text": [
      "1/10/2011 10:32\n",
      "9/9/2011 9:52\n"
     ]
    }
   ],
   "source": [
    "print(df.InvoiceDate.min())\n",
    "print(df.InvoiceDate.max())"
   ]
  },
  {
   "cell_type": "code",
   "execution_count": 24,
   "metadata": {
    "id": "xTis-PrBdkW7"
   },
   "outputs": [],
   "source": [
    "df[\"InvoiceDate\"] = pd.to_datetime(df[\"InvoiceDate\"])"
   ]
  },
  {
   "cell_type": "code",
   "execution_count": 25,
   "metadata": {
    "colab": {
     "base_uri": "https://localhost:8080/",
     "height": 206
    },
    "id": "9yLaiO5peO7K",
    "outputId": "0caa9b32-92bd-4f82-af3d-4650e18b4f04"
   },
   "outputs": [
    {
     "data": {
      "text/html": [
       "<div>\n",
       "<style scoped>\n",
       "    .dataframe tbody tr th:only-of-type {\n",
       "        vertical-align: middle;\n",
       "    }\n",
       "\n",
       "    .dataframe tbody tr th {\n",
       "        vertical-align: top;\n",
       "    }\n",
       "\n",
       "    .dataframe thead th {\n",
       "        text-align: right;\n",
       "    }\n",
       "</style>\n",
       "<table border=\"1\" class=\"dataframe\">\n",
       "  <thead>\n",
       "    <tr style=\"text-align: right;\">\n",
       "      <th></th>\n",
       "      <th>CustomerID</th>\n",
       "      <th>TotalAmount</th>\n",
       "    </tr>\n",
       "  </thead>\n",
       "  <tbody>\n",
       "    <tr>\n",
       "      <th>0</th>\n",
       "      <td>12346</td>\n",
       "      <td>77184.0</td>\n",
       "    </tr>\n",
       "    <tr>\n",
       "      <th>1</th>\n",
       "      <td>12747</td>\n",
       "      <td>4207.0</td>\n",
       "    </tr>\n",
       "    <tr>\n",
       "      <th>2</th>\n",
       "      <td>12748</td>\n",
       "      <td>33956.0</td>\n",
       "    </tr>\n",
       "    <tr>\n",
       "      <th>3</th>\n",
       "      <td>12749</td>\n",
       "      <td>4115.0</td>\n",
       "    </tr>\n",
       "    <tr>\n",
       "      <th>4</th>\n",
       "      <td>12820</td>\n",
       "      <td>946.0</td>\n",
       "    </tr>\n",
       "  </tbody>\n",
       "</table>\n",
       "</div>"
      ],
      "text/plain": [
       "   CustomerID  TotalAmount\n",
       "0       12346      77184.0\n",
       "1       12747       4207.0\n",
       "2       12748      33956.0\n",
       "3       12749       4115.0\n",
       "4       12820        946.0"
      ]
     },
     "execution_count": 25,
     "metadata": {},
     "output_type": "execute_result"
    }
   ],
   "source": [
    "# calculating the monetary values\n",
    "monetary =df.groupby(\"CustomerID\").TotalAmount.sum()\n",
    "monetary = monetary.reset_index() \n",
    "monetary.head()"
   ]
  },
  {
   "cell_type": "code",
   "execution_count": 26,
   "metadata": {
    "colab": {
     "base_uri": "https://localhost:8080/",
     "height": 206
    },
    "id": "-QR_CtoRe3xx",
    "outputId": "9ecb0b9a-0c2e-4525-f83a-aded84c36924"
   },
   "outputs": [
    {
     "data": {
      "text/html": [
       "<div>\n",
       "<style scoped>\n",
       "    .dataframe tbody tr th:only-of-type {\n",
       "        vertical-align: middle;\n",
       "    }\n",
       "\n",
       "    .dataframe tbody tr th {\n",
       "        vertical-align: top;\n",
       "    }\n",
       "\n",
       "    .dataframe thead th {\n",
       "        text-align: right;\n",
       "    }\n",
       "</style>\n",
       "<table border=\"1\" class=\"dataframe\">\n",
       "  <thead>\n",
       "    <tr style=\"text-align: right;\">\n",
       "      <th></th>\n",
       "      <th>CustomerID</th>\n",
       "      <th>InvoiceNo</th>\n",
       "    </tr>\n",
       "  </thead>\n",
       "  <tbody>\n",
       "    <tr>\n",
       "      <th>0</th>\n",
       "      <td>12346</td>\n",
       "      <td>1</td>\n",
       "    </tr>\n",
       "    <tr>\n",
       "      <th>1</th>\n",
       "      <td>12747</td>\n",
       "      <td>103</td>\n",
       "    </tr>\n",
       "    <tr>\n",
       "      <th>2</th>\n",
       "      <td>12748</td>\n",
       "      <td>4596</td>\n",
       "    </tr>\n",
       "    <tr>\n",
       "      <th>3</th>\n",
       "      <td>12749</td>\n",
       "      <td>199</td>\n",
       "    </tr>\n",
       "    <tr>\n",
       "      <th>4</th>\n",
       "      <td>12820</td>\n",
       "      <td>59</td>\n",
       "    </tr>\n",
       "  </tbody>\n",
       "</table>\n",
       "</div>"
      ],
      "text/plain": [
       "   CustomerID  InvoiceNo\n",
       "0       12346          1\n",
       "1       12747        103\n",
       "2       12748       4596\n",
       "3       12749        199\n",
       "4       12820         59"
      ]
     },
     "execution_count": 26,
     "metadata": {},
     "output_type": "execute_result"
    }
   ],
   "source": [
    "# calculating the frequency values\n",
    "frequency=df.groupby(\"CustomerID\").InvoiceNo.count()\n",
    "frequency = frequency.reset_index()\n",
    "frequency.head()"
   ]
  },
  {
   "cell_type": "code",
   "execution_count": 27,
   "metadata": {
    "colab": {
     "base_uri": "https://localhost:8080/",
     "height": 206
    },
    "id": "JbDrKNTPfG89",
    "outputId": "3210fe74-a658-415a-a429-597b6f6bef06"
   },
   "outputs": [
    {
     "data": {
      "text/html": [
       "<div>\n",
       "<style scoped>\n",
       "    .dataframe tbody tr th:only-of-type {\n",
       "        vertical-align: middle;\n",
       "    }\n",
       "\n",
       "    .dataframe tbody tr th {\n",
       "        vertical-align: top;\n",
       "    }\n",
       "\n",
       "    .dataframe thead th {\n",
       "        text-align: right;\n",
       "    }\n",
       "</style>\n",
       "<table border=\"1\" class=\"dataframe\">\n",
       "  <thead>\n",
       "    <tr style=\"text-align: right;\">\n",
       "      <th></th>\n",
       "      <th>CustomerID</th>\n",
       "      <th>Diff</th>\n",
       "    </tr>\n",
       "  </thead>\n",
       "  <tbody>\n",
       "    <tr>\n",
       "      <th>0</th>\n",
       "      <td>12346</td>\n",
       "      <td>326 days 02:48:00</td>\n",
       "    </tr>\n",
       "    <tr>\n",
       "      <th>1</th>\n",
       "      <td>12747</td>\n",
       "      <td>2 days 22:15:00</td>\n",
       "    </tr>\n",
       "    <tr>\n",
       "      <th>2</th>\n",
       "      <td>12748</td>\n",
       "      <td>1 days 00:29:00</td>\n",
       "    </tr>\n",
       "    <tr>\n",
       "      <th>3</th>\n",
       "      <td>12749</td>\n",
       "      <td>4 days 02:53:00</td>\n",
       "    </tr>\n",
       "    <tr>\n",
       "      <th>4</th>\n",
       "      <td>12820</td>\n",
       "      <td>3 days 21:37:00</td>\n",
       "    </tr>\n",
       "  </tbody>\n",
       "</table>\n",
       "</div>"
      ],
      "text/plain": [
       "   CustomerID              Diff\n",
       "0       12346 326 days 02:48:00\n",
       "1       12747   2 days 22:15:00\n",
       "2       12748   1 days 00:29:00\n",
       "3       12749   4 days 02:53:00\n",
       "4       12820   3 days 21:37:00"
      ]
     },
     "execution_count": 27,
     "metadata": {},
     "output_type": "execute_result"
    }
   ],
   "source": [
    "#calculating our recency value\n",
    "LastDate=df.InvoiceDate.max() #calculating the last date of InvoiceDate\n",
    "LastDate = LastDate + pd.DateOffset(days=1)\n",
    "df[\"Diff\"] = LastDate - df.InvoiceDate\n",
    "recency = df.groupby(\"CustomerID\").Diff.min()\n",
    "recency = recency.reset_index()\n",
    "recency.head()"
   ]
  },
  {
   "cell_type": "code",
   "execution_count": 28,
   "metadata": {
    "colab": {
     "base_uri": "https://localhost:8080/",
     "height": 206
    },
    "id": "0QF32b3Yfs1F",
    "outputId": "e6e593a0-7b16-440c-81e8-a0bb30ff8e5f"
   },
   "outputs": [
    {
     "data": {
      "text/html": [
       "<div>\n",
       "<style scoped>\n",
       "    .dataframe tbody tr th:only-of-type {\n",
       "        vertical-align: middle;\n",
       "    }\n",
       "\n",
       "    .dataframe tbody tr th {\n",
       "        vertical-align: top;\n",
       "    }\n",
       "\n",
       "    .dataframe thead th {\n",
       "        text-align: right;\n",
       "    }\n",
       "</style>\n",
       "<table border=\"1\" class=\"dataframe\">\n",
       "  <thead>\n",
       "    <tr style=\"text-align: right;\">\n",
       "      <th></th>\n",
       "      <th>Monetary</th>\n",
       "      <th>Frequence</th>\n",
       "      <th>Recency</th>\n",
       "    </tr>\n",
       "  </thead>\n",
       "  <tbody>\n",
       "    <tr>\n",
       "      <th>0</th>\n",
       "      <td>77184.0</td>\n",
       "      <td>1</td>\n",
       "      <td>326</td>\n",
       "    </tr>\n",
       "    <tr>\n",
       "      <th>1</th>\n",
       "      <td>4207.0</td>\n",
       "      <td>103</td>\n",
       "      <td>2</td>\n",
       "    </tr>\n",
       "    <tr>\n",
       "      <th>2</th>\n",
       "      <td>33956.0</td>\n",
       "      <td>4596</td>\n",
       "      <td>1</td>\n",
       "    </tr>\n",
       "    <tr>\n",
       "      <th>3</th>\n",
       "      <td>4115.0</td>\n",
       "      <td>199</td>\n",
       "      <td>4</td>\n",
       "    </tr>\n",
       "    <tr>\n",
       "      <th>4</th>\n",
       "      <td>946.0</td>\n",
       "      <td>59</td>\n",
       "      <td>3</td>\n",
       "    </tr>\n",
       "  </tbody>\n",
       "</table>\n",
       "</div>"
      ],
      "text/plain": [
       "   Monetary  Frequence  Recency\n",
       "0   77184.0          1      326\n",
       "1    4207.0        103        2\n",
       "2   33956.0       4596        1\n",
       "3    4115.0        199        4\n",
       "4     946.0         59        3"
      ]
     },
     "execution_count": 28,
     "metadata": {},
     "output_type": "execute_result"
    }
   ],
   "source": [
    "rmf = monetary.merge(frequency, on = \"CustomerID\")\n",
    "rmf = rmf.merge(recency, on = \"CustomerID\")\n",
    "rmf.columns = [\"CustomerID\", \"Monetary\", \"Frequence\", \"Recency\"]\n",
    "RMF1 = rmf.drop(\"CustomerID\",axis =1) #dropping customer id and storing it into RMF1\n",
    "RMF1.Recency = RMF1.Recency.dt.days\n",
    "RMF1.head()"
   ]
  },
  {
   "cell_type": "code",
   "execution_count": 29,
   "metadata": {
    "id": "sFExr_6Pr6Et"
   },
   "outputs": [],
   "source": [
    "from pyspark.ml.clustering import KMeans\n",
    "from pyspark.ml.feature import VectorAssembler\n",
    "from pyspark.ml.feature import StandardScaler\n",
    "from pyspark.ml.evaluation import ClusteringEvaluator"
   ]
  },
  {
   "cell_type": "code",
   "execution_count": 30,
   "metadata": {
    "id": "rVB4gNK-uunp"
   },
   "outputs": [],
   "source": [
    "rfm_numbers = spark.read.csv(\"customer_rfm_numbers.csv\", inferSchema=True, header=True)"
   ]
  },
  {
   "cell_type": "code",
   "execution_count": 31,
   "metadata": {
    "colab": {
     "base_uri": "https://localhost:8080/"
    },
    "id": "49i0ND6zu0vN",
    "outputId": "9f4fe3e8-9729-49d2-a1b7-04cfd72b348b"
   },
   "outputs": [
    {
     "name": "stdout",
     "output_type": "stream",
     "text": [
      "+----------+-------+---------+--------+\n",
      "|CustomerID|Recency|Frequency|Monetary|\n",
      "+----------+-------+---------+--------+\n",
      "|     15619|     11|        1|   337.0|\n",
      "|     17389|      1|       34| 31852.0|\n",
      "|     14450|    181|        3|   485.0|\n",
      "|     15727|     17|        7|  5220.0|\n",
      "|     15790|     11|        1|   225.0|\n",
      "+----------+-------+---------+--------+\n",
      "only showing top 5 rows\n",
      "\n"
     ]
    }
   ],
   "source": [
    "rfm_numbers.show(5)"
   ]
  },
  {
   "cell_type": "code",
   "execution_count": 32,
   "metadata": {
    "id": "JoF2lzCiqdZ8"
   },
   "outputs": [],
   "source": [
    "rfm_numbers_df = rfm_numbers.toPandas()"
   ]
  },
  {
   "cell_type": "code",
   "execution_count": 33,
   "metadata": {
    "colab": {
     "base_uri": "https://localhost:8080/",
     "height": 749
    },
    "id": "q1XiNG6ypaah",
    "outputId": "d8b2a55a-5222-4acb-a243-1fd12029420d"
   },
   "outputs": [
    {
     "name": "stderr",
     "output_type": "stream",
     "text": [
      "C:\\Users\\ASHUTOSH ROKADE\\AppData\\Local\\Temp\\ipykernel_1300\\4156693613.py:5: UserWarning: \n",
      "\n",
      "`distplot` is a deprecated function and will be removed in seaborn v0.14.0.\n",
      "\n",
      "Please adapt your code to use either `displot` (a figure-level function with\n",
      "similar flexibility) or `histplot` (an axes-level function for histograms).\n",
      "\n",
      "For a guide to updating your code to use the new functions, please see\n",
      "https://gist.github.com/mwaskom/de44147ed2974457ad6372750bbe5751\n",
      "\n",
      "  sns.distplot(rfm_numbers_df['Recency'])\n",
      "C:\\Users\\ASHUTOSH ROKADE\\AppData\\Local\\Temp\\ipykernel_1300\\4156693613.py:8: UserWarning: \n",
      "\n",
      "`distplot` is a deprecated function and will be removed in seaborn v0.14.0.\n",
      "\n",
      "Please adapt your code to use either `displot` (a figure-level function with\n",
      "similar flexibility) or `histplot` (an axes-level function for histograms).\n",
      "\n",
      "For a guide to updating your code to use the new functions, please see\n",
      "https://gist.github.com/mwaskom/de44147ed2974457ad6372750bbe5751\n",
      "\n",
      "  sns.distplot(rfm_numbers_df['Frequency'])\n",
      "C:\\Users\\ASHUTOSH ROKADE\\AppData\\Local\\Temp\\ipykernel_1300\\4156693613.py:11: UserWarning: \n",
      "\n",
      "`distplot` is a deprecated function and will be removed in seaborn v0.14.0.\n",
      "\n",
      "Please adapt your code to use either `displot` (a figure-level function with\n",
      "similar flexibility) or `histplot` (an axes-level function for histograms).\n",
      "\n",
      "For a guide to updating your code to use the new functions, please see\n",
      "https://gist.github.com/mwaskom/de44147ed2974457ad6372750bbe5751\n",
      "\n",
      "  sns.distplot(rfm_numbers_df['Monetary'])\n"
     ]
    },
    {
     "data": {
      "text/plain": [
       "<AxesSubplot: xlabel='Monetary', ylabel='Density'>"
      ]
     },
     "execution_count": 33,
     "metadata": {},
     "output_type": "execute_result"
    },
    {
     "data": {
      "image/png": "[encoded data removed]",
      "text/plain": [
       "<Figure size 1200x1000 with 3 Axes>"
      ]
     },
     "metadata": {},
     "output_type": "display_data"
    }
   ],
   "source": [
    "import seaborn as sns\n",
    "plt.figure(figsize=(12,10))\n",
    "# Plot distribution of recency\n",
    "plt.subplot(3, 1, 1)\n",
    "sns.distplot(rfm_numbers_df['Recency'])\n",
    "# Plot distribution of frequency\n",
    "plt.subplot(3, 1, 2)\n",
    "sns.distplot(rfm_numbers_df['Frequency'])\n",
    "# Plot distribution of monetary\n",
    "plt.subplot(3, 1, 3)\n",
    "sns.distplot(rfm_numbers_df['Monetary'])"
   ]
  },
  {
   "cell_type": "code",
   "execution_count": 34,
   "metadata": {
    "id": "tjTjci4du3j9"
   },
   "outputs": [],
   "source": [
    "# remove zero and negative numbers\n",
    "rfm_data = (rfm_numbers.withColumn(\"Monetary\", when(col(\"Monetary\") <= 0, 1).otherwise(col(\"Monetary\"))))"
   ]
  },
  {
   "cell_type": "code",
   "execution_count": 35,
   "metadata": {
    "id": "C0VRkpFtvlgK"
   },
   "outputs": [],
   "source": [
    "features = rfm_data.columns[1:]"
   ]
  },
  {
   "cell_type": "code",
   "execution_count": 36,
   "metadata": {
    "colab": {
     "base_uri": "https://localhost:8080/"
    },
    "id": "0b9bUpAQvqMV",
    "outputId": "5f7fe8f5-4559-407f-cca6-a7f5cdf18894"
   },
   "outputs": [
    {
     "name": "stdout",
     "output_type": "stream",
     "text": [
      "+----------+-------+---------+--------+\n",
      "|CustomerID|Recency|Frequency|Monetary|\n",
      "+----------+-------+---------+--------+\n",
      "|     15619|     11|        1|   337.0|\n",
      "|     17389|      1|       34| 31852.0|\n",
      "|     14450|    181|        3|   485.0|\n",
      "|     15727|     17|        7|  5220.0|\n",
      "|     15790|     11|        1|   225.0|\n",
      "+----------+-------+---------+--------+\n",
      "only showing top 5 rows\n",
      "\n"
     ]
    }
   ],
   "source": [
    "rfm_data.show(5)"
   ]
  },
  {
   "cell_type": "code",
   "execution_count": 37,
   "metadata": {
    "colab": {
     "base_uri": "https://localhost:8080/"
    },
    "id": "0k93ixPMvtOA",
    "outputId": "8b0f8f84-64b4-4a47-d952-a96b04246a41",
    "slideshow": {
     "slide_type": "slide"
    }
   },
   "outputs": [
    {
     "name": "stdout",
     "output_type": "stream",
     "text": [
      "+----------+------------------+\n",
      "|CustomerID|      rfm_features|\n",
      "+----------+------------------+\n",
      "|     15619|  [11.0,1.0,337.0]|\n",
      "|     17389|[1.0,34.0,31852.0]|\n",
      "|     14450| [181.0,3.0,485.0]|\n",
      "|     15727| [17.0,7.0,5220.0]|\n",
      "|     15790|  [11.0,1.0,225.0]|\n",
      "+----------+------------------+\n",
      "only showing top 5 rows\n",
      "\n"
     ]
    }
   ],
   "source": [
    "# vectorize all features\n",
    "assembler = VectorAssembler(inputCols=features, outputCol=\"rfm_features\")\n",
    "assembled_data = assembler.transform(rfm_data)\n",
    "assembled_data = assembled_data.select('CustomerID', 'rfm_features')\n",
    "assembled_data.show(5)"
   ]
  },
  {
   "cell_type": "code",
   "execution_count": 38,
   "metadata": {
    "colab": {
     "base_uri": "https://localhost:8080/"
    },
    "id": "MTDFgnxJbaJ0",
    "outputId": "bc9e0701-2f1b-4e9a-87f0-2c57f8642e24"
   },
   "outputs": [
    {
     "name": "stdout",
     "output_type": "stream",
     "text": [
      "+----------+------------------+--------------------+\n",
      "|CustomerID|      rfm_features|    rfm_standardized|\n",
      "+----------+------------------+--------------------+\n",
      "|     15619|  [11.0,1.0,337.0]|[0.11052107132513...|\n",
      "|     17389|[1.0,34.0,31852.0]|[0.01004737012046...|\n",
      "|     14450| [181.0,3.0,485.0]|[1.81857399180447...|\n",
      "|     15727| [17.0,7.0,5220.0]|[0.17080529204793...|\n",
      "|     15790|  [11.0,1.0,225.0]|[0.11052107132513...|\n",
      "+----------+------------------+--------------------+\n",
      "only showing top 5 rows\n",
      "\n"
     ]
    }
   ],
   "source": [
    "# Standardization \n",
    "scaler = StandardScaler(inputCol='rfm_features', outputCol='rfm_standardized')\n",
    "data_scale = scaler.fit(assembled_data)\n",
    "scaled_data = data_scale.transform(assembled_data)\n",
    "scaled_data.show(5)"
   ]
  },
  {
   "cell_type": "markdown",
   "metadata": {
    "id": "5N9uc1kysX1l"
   },
   "source": [
    "### Using the Elbow Method to find the optimal number of clusters"
   ]
  },
  {
   "cell_type": "code",
   "execution_count": 39,
   "metadata": {
    "id": "zBHWqAOibhp-"
   },
   "outputs": [
    {
     "name": "stdout",
     "output_type": "stream",
     "text": [
      "8432.530690405676\n",
      "6975.131002875297\n",
      "3794.3836574461575\n",
      "3162.975504627705\n",
      "2742.220293503049\n",
      "2000.0247958095274\n",
      "1607.2008443831562\n",
      "1435.362995672892\n"
     ]
    }
   ],
   "source": [
    "costs = np.zeros(10)\n",
    "# Apply k-means with different value of k\n",
    "for k in range(2,10):\n",
    "    kmeans = KMeans().setK(k).setSeed(1).setFeaturesCol('rfm_standardized')\n",
    "    model = kmeans.fit(scaled_data)\n",
    "    costs[k] = model.summary.trainingCost\n",
    "    print(costs[k])"
   ]
  },
  {
   "cell_type": "code",
   "execution_count": 40,
   "metadata": {
    "colab": {
     "base_uri": "https://localhost:8080/",
     "height": 530
    },
    "id": "W5Ur36tQbmvJ",
    "outputId": "40ea267b-9b01-45ac-916f-47236eb50348"
   },
   "outputs": [
    {
     "data": {
      "text/plain": [
       "Text(0.5, 1.0, 'Elbow Curve')"
      ]
     },
     "execution_count": 40,
     "metadata": {},
     "output_type": "execute_result"
    },
    {
     "data": {
      "image/png": "[encoded data removed]",
      "text/plain": [
       "<Figure size 1200x800 with 1 Axes>"
      ]
     },
     "metadata": {},
     "output_type": "display_data"
    }
   ],
   "source": [
    "# Plot the cost\n",
    "df_cost = pd.DataFrame(costs[2:])\n",
    "df_cost.columns = [\"cost\"]\n",
    "new_col = [2,3,4,5,6,7,8, 9]\n",
    "df_cost.insert(0, 'cluster', new_col)\n",
    "\n",
    "fig, ax = plt.subplots(1, 1, figsize =(12, 8))\n",
    "ax.plot(df_cost.cluster, df_cost.cost)\n",
    "ax.set_xlabel('Number of Clusters')\n",
    "ax.set_ylabel('Score')\n",
    "ax.set_title('Elbow Curve')"
   ]
  },
  {
   "cell_type": "code",
   "execution_count": 41,
   "metadata": {
    "colab": {
     "base_uri": "https://localhost:8080/",
     "height": 300
    },
    "id": "UxmjNJdQpzpJ",
    "outputId": "0830c46a-e769-457c-f64b-9f73eb574beb"
   },
   "outputs": [
    {
     "data": {
      "text/html": [
       "<div>\n",
       "<style scoped>\n",
       "    .dataframe tbody tr th:only-of-type {\n",
       "        vertical-align: middle;\n",
       "    }\n",
       "\n",
       "    .dataframe tbody tr th {\n",
       "        vertical-align: top;\n",
       "    }\n",
       "\n",
       "    .dataframe thead th {\n",
       "        text-align: right;\n",
       "    }\n",
       "</style>\n",
       "<table border=\"1\" class=\"dataframe\">\n",
       "  <thead>\n",
       "    <tr style=\"text-align: right;\">\n",
       "      <th></th>\n",
       "      <th>cluster</th>\n",
       "      <th>cost</th>\n",
       "    </tr>\n",
       "  </thead>\n",
       "  <tbody>\n",
       "    <tr>\n",
       "      <th>0</th>\n",
       "      <td>2</td>\n",
       "      <td>8432.530690</td>\n",
       "    </tr>\n",
       "    <tr>\n",
       "      <th>1</th>\n",
       "      <td>3</td>\n",
       "      <td>6975.131003</td>\n",
       "    </tr>\n",
       "    <tr>\n",
       "      <th>2</th>\n",
       "      <td>4</td>\n",
       "      <td>3794.383657</td>\n",
       "    </tr>\n",
       "    <tr>\n",
       "      <th>3</th>\n",
       "      <td>5</td>\n",
       "      <td>3162.975505</td>\n",
       "    </tr>\n",
       "    <tr>\n",
       "      <th>4</th>\n",
       "      <td>6</td>\n",
       "      <td>2742.220294</td>\n",
       "    </tr>\n",
       "    <tr>\n",
       "      <th>5</th>\n",
       "      <td>7</td>\n",
       "      <td>2000.024796</td>\n",
       "    </tr>\n",
       "    <tr>\n",
       "      <th>6</th>\n",
       "      <td>8</td>\n",
       "      <td>1607.200844</td>\n",
       "    </tr>\n",
       "    <tr>\n",
       "      <th>7</th>\n",
       "      <td>9</td>\n",
       "      <td>1435.362996</td>\n",
       "    </tr>\n",
       "  </tbody>\n",
       "</table>\n",
       "</div>"
      ],
      "text/plain": [
       "   cluster         cost\n",
       "0        2  8432.530690\n",
       "1        3  6975.131003\n",
       "2        4  3794.383657\n",
       "3        5  3162.975505\n",
       "4        6  2742.220294\n",
       "5        7  2000.024796\n",
       "6        8  1607.200844\n",
       "7        9  1435.362996"
      ]
     },
     "execution_count": 41,
     "metadata": {},
     "output_type": "execute_result"
    }
   ],
   "source": [
    "df_cost"
   ]
  },
  {
   "cell_type": "markdown",
   "metadata": {
    "id": "eTGSi2iWnApz"
   },
   "source": [
    "### K Means Clustering"
   ]
  },
  {
   "cell_type": "code",
   "execution_count": 43,
   "metadata": {
    "id": "nxM7pM5XgHQN"
   },
   "outputs": [],
   "source": [
    "k_means = KMeans(featuresCol='rfm_standardized', k=4)\n",
    "model = k_means.fit(scaled_data)\n",
    "predictions = model.transform(scaled_data)\n",
    "\n",
    "result = predictions.select('CustomerID', 'prediction')"
   ]
  },
  {
   "cell_type": "code",
   "execution_count": null,
   "metadata": {
    "colab": {
     "base_uri": "https://localhost:8080/"
    },
    "id": "DOwn7bW_kFTt",
    "outputId": "d269a12d-81ec-432d-f631-25364fa1b6e4"
   },
   "outputs": [
    {
     "name": "stdout",
     "output_type": "stream",
     "text": [
      "+----------+----------+\n",
      "|CustomerID|prediction|\n",
      "+----------+----------+\n",
      "|     15619|         0|\n",
      "|     17389|         3|\n",
      "|     14450|         1|\n",
      "|     15727|         0|\n",
      "|     15790|         0|\n",
      "+----------+----------+\n",
      "only showing top 5 rows\n",
      "\n"
     ]
    }
   ],
   "source": [
    "result.show(5)"
   ]
  },
  {
   "cell_type": "code",
   "execution_count": null,
   "metadata": {
    "colab": {
     "base_uri": "https://localhost:8080/"
    },
    "id": "PD5C7YdhkUIl",
    "outputId": "c006f8e7-ef68-46e3-ec38-7b92171e64fa"
   },
   "outputs": [
    {
     "name": "stdout",
     "output_type": "stream",
     "text": [
      "+----------+-------+---------+--------+--------+\n",
      "|CustomerID|Recency|Frequency|Monetary| Loyalty|\n",
      "+----------+-------+---------+--------+--------+\n",
      "|     16678|      3|      163|  3111.0|Platinum|\n",
      "|     17735|      3|      690| 13207.0|Platinum|\n",
      "|     17139|     16|      478| 10750.0|Platinum|\n",
      "|     13408|      2|      478| 28127.0|Platinum|\n",
      "|     17389|      1|      213| 31852.0|Platinum|\n",
      "+----------+-------+---------+--------+--------+\n",
      "only showing top 5 rows\n",
      "\n"
     ]
    }
   ],
   "source": [
    "rfm_score = spark.read.csv('retail_loyalty_rfm.csv', inferSchema=True, header=True)\n",
    "rfm_score = rfm_score.select(\"CustomerID\", \"Recency\", \"Frequency\", \"Monetary\", \"Loyalty\")\n",
    "rfm_score.show(5)"
   ]
  },
  {
   "cell_type": "code",
   "execution_count": null,
   "metadata": {
    "id": "qmv_mV-Wkkb4"
   },
   "outputs": [],
   "source": [
    "combined_result = result.join(rfm_score, on='CustomerID', how='inner')"
   ]
  },
  {
   "cell_type": "code",
   "execution_count": null,
   "metadata": {
    "id": "yPuKBzHtmTWH"
   },
   "outputs": [],
   "source": [
    "result = combined_result.toPandas()"
   ]
  },
  {
   "cell_type": "code",
   "execution_count": null,
   "metadata": {
    "id": "qVn-hmuImmon"
   },
   "outputs": [],
   "source": [
    "import seaborn as sns"
   ]
  },
  {
   "cell_type": "code",
   "execution_count": null,
   "metadata": {
    "colab": {
     "base_uri": "https://localhost:8080/",
     "height": 497
    },
    "id": "g-Z117Awmqmp",
    "outputId": "e8b544c6-4f13-42f0-c0fb-001f04b43104"
   },
   "outputs": [
    {
     "data": {
      "image/png": "[encoded data removed]",
      "text/plain": [
       "<Figure size 600x800 with 1 Axes>"
      ]
     },
     "metadata": {},
     "output_type": "display_data"
    }
   ],
   "source": [
    "fig, ax = plt.subplots(1, 1, figsize=(6, 8))\n",
    "\n",
    "sns.countplot(x=\"prediction\", data=result)\n",
    "for p in ax.patches:\n",
    "    ax.annotate('{}'.format(p.get_height()), (p.get_x() + 0.3, p.get_height() + 20))"
   ]
  },
  {
   "cell_type": "code",
   "execution_count": null,
   "metadata": {
    "colab": {
     "base_uri": "https://localhost:8080/",
     "height": 595
    },
    "id": "F9sV21XGmtFV",
    "outputId": "f97b343b-408d-412b-ba1f-d834df146be5"
   },
   "outputs": [
    {
     "data": {
      "text/plain": [
       "<AxesSubplot: xlabel='prediction', ylabel='Monetary'>"
      ]
     },
     "execution_count": 48,
     "metadata": {},
     "output_type": "execute_result"
    },
    {
     "data": {
      "image/png": "[encoded data removed]",
      "text/plain": [
       "<Figure size 2000x1000 with 3 Axes>"
      ]
     },
     "metadata": {},
     "output_type": "display_data"
    }
   ],
   "source": [
    "fig, ax = plt.subplots(1, 3, figsize=(20, 10))\n",
    "sns.boxplot(x='prediction', y='Recency', data=result, ax=ax[0])\n",
    "sns.boxplot(x='prediction', y='Frequency', data=result, ax=ax[1])\n",
    "sns.boxplot(x='prediction', y='Monetary', data=result, ax=ax[2])"
   ]
  }
 ],
 "metadata": {
  "colab": {
   "collapsed_sections": [],
   "name": "BDA Mini-Project.ipynb",
   "provenance": []
  },
  "kernelspec": {
   "display_name": "Python 3 (ipykernel)",
   "language": "python",
   "name": "python3"
  },
  "language_info": {
   "codemirror_mode": {
    "name": "ipython",
    "version": 3
   },
   "file_extension": ".py",
   "mimetype": "text/x-python",
   "name": "python",
   "nbconvert_exporter": "python",
   "pygments_lexer": "ipython3",
   "version": "3.10.7"
  },
  "vscode": {
   "interpreter": {
    "hash": "3440fa40ac2c39878b83ee7a6e81824601a62799733fc81e385c4ef9c8700d77"
   }
  }
 },
 "nbformat": 4,
 "nbformat_minor": 1
}
